{
 "cells": [
  {
   "cell_type": "markdown",
   "id": "fa4aae2c-e7b7-4074-97e5-0d5cf1d29ca3",
   "metadata": {},
   "source": [
    "# Data Science Tools and Ecosystem\n",
    "## In this notebook, Data Science Tools and Ecosystems are summarized.\n",
    "## Some of the popular languages that Data Scientists use are:\n",
    "1. Python\n",
    "2. R\n",
    "3. Julia  "
   ]
  },
  {
   "cell_type": "markdown",
   "id": "6024ebe2-bb8c-4bd7-a832-b0a9dbe2205b",
   "metadata": {},
   "source": [
    "## Some of the commonly used libraries used by Data Scientists include:\n",
    "1. ggplot2\n",
    "2. GGally\n",
    "3. Pandas\n",
    "4. Numpy\n",
    "5. Tensorflow "
   ]
  },
  {
   "cell_type": "markdown",
   "id": "546b6292-c00a-4b62-ae26-bc2abb0b39d7",
   "metadata": {},
   "source": [
    "| Data Science Tools |\n",
    "|--------------------|\n",
    "| VS Studio          |\n",
    "| Hadoop             |\n",
    "| Anaconda           |   \r\n"
   ]
  },
  {
   "cell_type": "markdown",
   "id": "98a96ca2-9397-4956-89e0-9088435b014a",
   "metadata": {},
   "source": [
    "### Below are a few examples of evaluating arithmetic expressions in Python"
   ]
  },
  {
   "cell_type": "code",
   "execution_count": 9,
   "id": "76b909c3-f56d-4207-9643-4bc8c4b05ab7",
   "metadata": {},
   "outputs": [
    {
     "data": {
      "text/plain": [
       "17"
      ]
     },
     "execution_count": 9,
     "metadata": {},
     "output_type": "execute_result"
    }
   ],
   "source": [
    "'''This a simple arithmetic expression to mutiply then add integers'''\n",
    "(3*4)+5"
   ]
  },
  {
   "cell_type": "code",
   "execution_count": 13,
   "id": "9c48f43c-74d3-4975-989c-29ced219a25c",
   "metadata": {},
   "outputs": [
    {
     "name": "stdin",
     "output_type": "stream",
     "text": [
      "enter the minutes:  200\n"
     ]
    },
    {
     "name": "stdout",
     "output_type": "stream",
     "text": [
      "3.3333333333333335\n"
     ]
    }
   ],
   "source": [
    "''' This will convert 200 minutes to hours by diving by 60 '''\n",
    "user_input = int(input(\"enter the minutes: \"))\n",
    "result = user_input/60\n",
    "print(result) "
   ]
  },
  {
   "cell_type": "markdown",
   "id": "f4dc296a-941c-4f96-8b67-c0115dc65578",
   "metadata": {},
   "source": [
    "*Objectives:*\n",
    "+ simple arithmetic expression to mutiply then add integers\n",
    "+ Some of the commonly used libraries used by Data Scientists\n",
    "+ Lists of popular languages for Data Science\n",
    "\n",
    "## Author\n",
    "Wande "
   ]
  },
  {
   "cell_type": "code",
   "execution_count": null,
   "id": "6a163ee2-b623-412a-b8c4-ab8fe5c1dcca",
   "metadata": {},
   "outputs": [],
   "source": []
  }
 ],
 "metadata": {
  "kernelspec": {
   "display_name": "Python 3 (ipykernel)",
   "language": "python",
   "name": "python3"
  },
  "language_info": {
   "codemirror_mode": {
    "name": "ipython",
    "version": 3
   },
   "file_extension": ".py",
   "mimetype": "text/x-python",
   "name": "python",
   "nbconvert_exporter": "python",
   "pygments_lexer": "ipython3",
   "version": "3.12.4"
  }
 },
 "nbformat": 4,
 "nbformat_minor": 5
}
